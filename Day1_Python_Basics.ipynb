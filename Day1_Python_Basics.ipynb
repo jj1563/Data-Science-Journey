{
 "cells": [
  {
   "cell_type": "markdown",
   "id": "c0fed5e6-d977-4c7b-b294-fa1ccc5fd4a1",
   "metadata": {},
   "source": [
    "hello.py"
   ]
  },
  {
   "cell_type": "code",
   "execution_count": 1,
   "id": "4a1fcf68-fb6f-4666-96d7-6ecb138a4e03",
   "metadata": {},
   "outputs": [
    {
     "name": "stdout",
     "output_type": "stream",
     "text": [
      "Hello,World!\n"
     ]
    }
   ],
   "source": [
    "print(\"Hello,World!\")"
   ]
  },
  {
   "cell_type": "markdown",
   "id": "03c9515a-7a4e-4238-8d65-73daa484871e",
   "metadata": {},
   "source": [
    "Python Syntax"
   ]
  },
  {
   "cell_type": "code",
   "execution_count": 4,
   "id": "9b6a1d44-b27b-483e-8e7e-b38c582e94f8",
   "metadata": {},
   "outputs": [
    {
     "name": "stdout",
     "output_type": "stream",
     "text": [
      "Five is Greater than two!\n"
     ]
    }
   ],
   "source": [
    "#intentation\n",
    "if 5 > 2:\n",
    "    print(\"Five is Greater than two!\")"
   ]
  },
  {
   "cell_type": "markdown",
   "id": "b941839b-1d8d-4d74-9ffc-7c4aa722532e",
   "metadata": {},
   "source": [
    "Variables"
   ]
  },
  {
   "cell_type": "code",
   "execution_count": 6,
   "id": "c0cb2ff8-ebae-4916-8bed-3aed0d95f7fa",
   "metadata": {},
   "outputs": [
    {
     "name": "stdout",
     "output_type": "stream",
     "text": [
      "5\n",
      "Hello, World!\n"
     ]
    }
   ],
   "source": [
    "#Creating Variables\n",
    "x = 5\n",
    "y = \"Hello, World!\"\n",
    "print(x)\n",
    "print(y)"
   ]
  },
  {
   "cell_type": "code",
   "execution_count": 8,
   "id": "16849614-d478-49cf-ada3-17c15a2354e7",
   "metadata": {},
   "outputs": [
    {
     "name": "stdout",
     "output_type": "stream",
     "text": [
      "DarisRevanth\n"
     ]
    }
   ],
   "source": [
    "#This is comment.\n",
    "print(\"Daris\" + \"Revanth\")"
   ]
  },
  {
   "cell_type": "code",
   "execution_count": 10,
   "id": "733376de-c27f-407a-8b51-003f25137e5f",
   "metadata": {},
   "outputs": [
    {
     "name": "stdout",
     "output_type": "stream",
     "text": [
      "Sally\n"
     ]
    }
   ],
   "source": [
    "#Creating Variables\n",
    "x = 4       # x is of type int\n",
    "x = \"Sally\" # x is now type of str\n",
    "print(x)"
   ]
  },
  {
   "cell_type": "code",
   "execution_count": 12,
   "id": "4a36ecd4-512a-41a7-bac8-0b26736e622d",
   "metadata": {},
   "outputs": [],
   "source": [
    "#Casting\n",
    "x = str(3)   # x will be '3'\n",
    "y = int(3)   # y will be 3\n",
    "z = float(3) # z will be 3.0"
   ]
  },
  {
   "cell_type": "code",
   "execution_count": 14,
   "id": "fe8f34d9-e3e2-434d-b047-9fd546460bba",
   "metadata": {},
   "outputs": [
    {
     "name": "stdout",
     "output_type": "stream",
     "text": [
      "<class 'int'>\n",
      "<class 'str'>\n"
     ]
    }
   ],
   "source": [
    "#Get the type\n",
    "x = 5\n",
    "y = \"Daris\"\n",
    "print(type(x))\n",
    "print(type(y))"
   ]
  },
  {
   "cell_type": "code",
   "execution_count": 16,
   "id": "2389cade-a17f-43bb-a337-54c95fd52a18",
   "metadata": {},
   "outputs": [],
   "source": [
    "# Single or Double Quotes\n",
    "x = \"Daris\"\n",
    "# is the same as\n",
    "x = 'Daris'"
   ]
  },
  {
   "cell_type": "code",
   "execution_count": 18,
   "id": "c02db391-8a28-438d-a2db-9ed1eb949d3b",
   "metadata": {},
   "outputs": [],
   "source": [
    "#Case-Sensitive\n",
    "a = 4\n",
    "A = \"Sally\"\n",
    "# A will not overwrite a\n",
    "\n",
    "# This will create two variables"
   ]
  },
  {
   "cell_type": "raw",
   "id": "20eea9dc-37ec-422f-8557-7ad31c298ae2",
   "metadata": {},
   "source": [
    "Variable Names and Multi Words Variable Names:"
   ]
  },
  {
   "cell_type": "code",
   "execution_count": 47,
   "id": "ebe77b66-c097-44e5-b03d-2db292626fdc",
   "metadata": {},
   "outputs": [
    {
     "data": {
      "text/plain": [
       "'\\n#Illegal variable names:\\n2myvar = \"John\"\\nmy-var = \"John\"\\nmy var = \"John\"\\n'"
      ]
     },
     "execution_count": 47,
     "metadata": {},
     "output_type": "execute_result"
    }
   ],
   "source": [
    "# Legal variable names:\n",
    "myvar = \"John\"\n",
    "my_var = \"John\"\n",
    "_my_var = \"John\"\n",
    "myVar = \"John\"\n",
    "MYVAR = \"John\"\n",
    "myvar2 = \"John\"\n",
    "\"\"\"\n",
    "#Illegal variable names:\n",
    "2myvar = \"John\"\n",
    "my-var = \"John\"\n",
    "my var = \"John\"\n",
    "\"\"\""
   ]
  },
  {
   "cell_type": "code",
   "execution_count": 22,
   "id": "7c976088-feff-4049-8e94-3fed70f9eb75",
   "metadata": {},
   "outputs": [],
   "source": [
    "#Camel Case\n",
    "#Each word, except the first, starts with a capital letter:\n",
    "\n",
    "myVariableName = \"John\"\n",
    "\n",
    "#Pascal Case\n",
    "#Each word starts with a capital letter:\n",
    "\n",
    "MyVariableName = \"John\"\n",
    "\n",
    "#Snake Case\n",
    "#Each word is separated by an underscore character:\n",
    "\n",
    "my_variable_name = \"John\""
   ]
  },
  {
   "cell_type": "raw",
   "id": "acb16cf0-ef61-44d0-ab2f-ed2d03c5aabc",
   "metadata": {},
   "source": [
    "Assign Multiple Values"
   ]
  },
  {
   "cell_type": "code",
   "execution_count": 24,
   "id": "892c1a90-7db1-4416-86f3-eb94f450309c",
   "metadata": {},
   "outputs": [
    {
     "name": "stdout",
     "output_type": "stream",
     "text": [
      "Orange\n",
      "Banana\n",
      "Cherry\n"
     ]
    }
   ],
   "source": [
    "# Many Values to Multiple Variables\n",
    "\n",
    "x, y, z = \"Orange\", \"Banana\", \"Cherry\"\n",
    "print(x)\n",
    "print(y)\n",
    "print(z)"
   ]
  },
  {
   "cell_type": "code",
   "execution_count": 26,
   "id": "795f233d-f4f5-4c24-84f9-cdd8027b8b39",
   "metadata": {},
   "outputs": [
    {
     "name": "stdout",
     "output_type": "stream",
     "text": [
      "Orange\n",
      "Orange\n",
      "Orange\n"
     ]
    }
   ],
   "source": [
    "# One Value to Multiple Variables\n",
    "\n",
    "x = y = z = \"Orange\"\n",
    "print(x)\n",
    "print(y)\n",
    "print(z)"
   ]
  },
  {
   "cell_type": "code",
   "execution_count": 50,
   "id": "97724813-27fb-4452-9a41-29b927f41844",
   "metadata": {},
   "outputs": [
    {
     "name": "stdout",
     "output_type": "stream",
     "text": [
      "apple\n",
      "banana\n",
      "cherry\n"
     ]
    }
   ],
   "source": [
    "# Unpack a Collection\n",
    "\n",
    "fruits = [\"apple\", \"banana\", \"cherry\"]\n",
    "x, y, z = fruits\n",
    "\n",
    "print(x)\n",
    "print(y)\n",
    "print(z)"
   ]
  },
  {
   "cell_type": "raw",
   "id": "929d8ab9-0fb0-4ff0-bcf4-9d73ed4846c3",
   "metadata": {},
   "source": [
    "Output Variables"
   ]
  },
  {
   "cell_type": "code",
   "execution_count": null,
   "id": "0f47f01d-b892-48aa-ac03-36855d78bd8c",
   "metadata": {},
   "outputs": [],
   "source": [
    "# The Python print() function is often used to output variables.\n",
    "\n",
    "x = \"Python is awesome\"\n",
    "print(x)"
   ]
  },
  {
   "cell_type": "code",
   "execution_count": 31,
   "id": "5fbdcebb-b42f-42ed-a976-12d0cb6167c8",
   "metadata": {},
   "outputs": [
    {
     "name": "stdout",
     "output_type": "stream",
     "text": [
      "Python is awesome\n"
     ]
    },
    {
     "data": {
      "text/plain": [
       "' Notice the space character after \"Python \" and \"is \", without them\\n the result would be \"Pythonisawesome\".'"
      ]
     },
     "execution_count": 31,
     "metadata": {},
     "output_type": "execute_result"
    }
   ],
   "source": [
    "#In the print() function, you output multiple variables, separated by a comma:\n",
    "\n",
    "x = \"Python \"\n",
    "y = \"is \"\n",
    "z = \"awesome\"\n",
    "print(x + y + z)\n",
    "\n",
    "\"\"\" Notice the space character after \"Python \" and \"is \", without them\n",
    " the result would be \"Pythonisawesome\".\"\"\""
   ]
  },
  {
   "cell_type": "code",
   "execution_count": 33,
   "id": "9ad781d1-689c-4f1d-95bd-cab386cc3976",
   "metadata": {},
   "outputs": [
    {
     "name": "stdout",
     "output_type": "stream",
     "text": [
      "15\n"
     ]
    }
   ],
   "source": [
    "# For numbers, the + character works as a mathematical operator:\n",
    "x = 5 \n",
    "y = 10\n",
    "print(x + y)"
   ]
  },
  {
   "cell_type": "code",
   "execution_count": 35,
   "id": "83900449-f1a7-4bbd-a210-968dba9d2d5f",
   "metadata": {},
   "outputs": [
    {
     "ename": "TypeError",
     "evalue": "unsupported operand type(s) for +: 'int' and 'str'",
     "output_type": "error",
     "traceback": [
      "\u001b[1;31m---------------------------------------------------------------------------\u001b[0m",
      "\u001b[1;31mTypeError\u001b[0m                                 Traceback (most recent call last)",
      "Cell \u001b[1;32mIn[35], line 5\u001b[0m\n\u001b[0;32m      3\u001b[0m x \u001b[38;5;241m=\u001b[39m \u001b[38;5;241m5\u001b[39m\n\u001b[0;32m      4\u001b[0m y \u001b[38;5;241m=\u001b[39m \u001b[38;5;124m\"\u001b[39m\u001b[38;5;124mDairs\u001b[39m\u001b[38;5;124m\"\u001b[39m\n\u001b[1;32m----> 5\u001b[0m \u001b[38;5;28mprint\u001b[39m(\u001b[43mx\u001b[49m\u001b[43m \u001b[49m\u001b[38;5;241;43m+\u001b[39;49m\u001b[43m \u001b[49m\u001b[43my\u001b[49m)\n",
      "\u001b[1;31mTypeError\u001b[0m: unsupported operand type(s) for +: 'int' and 'str'"
     ]
    }
   ],
   "source": [
    "# In the print() function, when you try to combine a string and a number with\n",
    "# the + operator, Python will give you an error:\n",
    "x = 5\n",
    "y = \"Dairs\"\n",
    "print(x + y)"
   ]
  },
  {
   "cell_type": "code",
   "execution_count": 37,
   "id": "3c880da5-201b-4849-813f-78c8c11fb7b4",
   "metadata": {},
   "outputs": [
    {
     "name": "stdout",
     "output_type": "stream",
     "text": [
      "5 Daris\n"
     ]
    }
   ],
   "source": [
    "\"\"\" The best way to output multiple variables in the print() function is to\n",
    "separate them with commas,which even support different data types: \"\"\"\n",
    "x = 5\n",
    "y = \"Daris\"\n",
    "print(x, y)"
   ]
  },
  {
   "cell_type": "raw",
   "id": "88211ad7-2f88-4c03-8124-4ba25f843c66",
   "metadata": {},
   "source": [
    "Global Variables"
   ]
  },
  {
   "cell_type": "code",
   "execution_count": 52,
   "id": "84c0d5e3-c099-48dc-84e8-4409090c8450",
   "metadata": {},
   "outputs": [
    {
     "name": "stdout",
     "output_type": "stream",
     "text": [
      "Python is awesome\n"
     ]
    }
   ],
   "source": [
    "#Create a variable outside of a function, and use it inside the function\n",
    "x = \"awesome\"\n",
    "\n",
    "def myfunc():\n",
    "    print(\"Python is \" + x)\n",
    "\n",
    "myfunc()"
   ]
  },
  {
   "cell_type": "code",
   "execution_count": 54,
   "id": "d83265a0-2b31-4181-960f-a5015f4e8af2",
   "metadata": {},
   "outputs": [
    {
     "name": "stdout",
     "output_type": "stream",
     "text": [
      "Python is awesome\n",
      "Python is awesome\n"
     ]
    }
   ],
   "source": [
    "# Create a variable inside a function, with the same name as the global variable\n",
    "x = \"awesome\"\n",
    "\n",
    "def myfunc():\n",
    "    X = \"fantastic\"\n",
    "    print(\"Python is \" + x)\n",
    "\n",
    "myfunc()\n",
    "\n",
    "print(\"Python is \" + x)"
   ]
  },
  {
   "cell_type": "code",
   "execution_count": 43,
   "id": "cbf3f733-557e-4306-befd-8ace26f26136",
   "metadata": {},
   "outputs": [
    {
     "name": "stdout",
     "output_type": "stream",
     "text": [
      "Python is fuantastic\n"
     ]
    }
   ],
   "source": [
    "# If you use the global keyword, the variable belongs to the global scope:\n",
    "\n",
    "def myfunc():\n",
    "    global x\n",
    "    x = \"fuantastic\"\n",
    "\n",
    "myfunc()\n",
    "\n",
    "print(\"Python is \" + x)"
   ]
  },
  {
   "cell_type": "code",
   "execution_count": 45,
   "id": "b8dc6bfe-be98-4355-9471-4b9da7da3df7",
   "metadata": {},
   "outputs": [
    {
     "name": "stdout",
     "output_type": "stream",
     "text": [
      "Python is fantastic\n"
     ]
    }
   ],
   "source": [
    "# to change the value of a global variable inside a function, refer to the \n",
    "# variable by using the global keyword:\n",
    "\n",
    "x = \"awesome\"\n",
    "\n",
    "def myfunc():\n",
    "  global x\n",
    "  x = \"fantastic\"\n",
    "\n",
    "myfunc()\n",
    "\n",
    "print(\"Python is \" + x)"
   ]
  },
  {
   "cell_type": "markdown",
   "id": "210cc957-7f3d-4086-a4d9-471e13a7b319",
   "metadata": {},
   "source": [
    "Data Types "
   ]
  },
  {
   "cell_type": "code",
   "execution_count": 59,
   "id": "dc975be4-95ef-43e1-b58f-f945426375da",
   "metadata": {},
   "outputs": [
    {
     "data": {
      "text/plain": [
       "'\\nText Type       : str\\nNumerical Types : int, float, complex\\nSequence Types  : list, tuple, range\\nMapping Type    : dict\\nSet Types       : set, frozenset\\nBoolean Type    : bool\\nBinary Types    : bytes, bytearray, memoryview\\nNoneType       : None Type\\n'"
      ]
     },
     "execution_count": 59,
     "metadata": {},
     "output_type": "execute_result"
    }
   ],
   "source": [
    "# Built-in Data Types\n",
    "#Python has the following data types built-in by default, in these categories:\n",
    "\"\"\"\n",
    "Text Type       : str\n",
    "Numerical Types : int, float, complex\n",
    "Sequence Types  : list, tuple, range\n",
    "Mapping Type    : dict\n",
    "Set Types       : set, frozenset\n",
    "Boolean Type    : bool\n",
    "Binary Types    : bytes, bytearray, memoryview\n",
    "NoneType       : None Type\n",
    "\"\"\""
   ]
  },
  {
   "cell_type": "code",
   "execution_count": 69,
   "id": "1114fc1c-4ce4-4f2a-9adf-378c35d303c8",
   "metadata": {},
   "outputs": [
    {
     "name": "stdout",
     "output_type": "stream",
     "text": [
      "a = Hello World, type = <class 'str'>\n",
      "b = 20, type = <class 'int'>\n",
      "c = 20.5, type = <class 'float'>\n",
      "d = 1j, type = <class 'complex'>\n",
      "e = ['apple', 'banana', 'cherry'], type = <class 'list'>\n",
      "f = ('apple', 'banana', 'cherry'), type = <class 'tuple'>\n",
      "g = range(0, 6), type = <class 'range'>\n",
      "h = {'name': 'John', 'age': 36}, type = <class 'dict'>\n",
      "i = {'apple', 'banana', 'cherry'}, type = <class 'set'>\n",
      "j = frozenset({'apple', 'banana', 'cherry'}), type = <class 'frozenset'>\n",
      "k = True, type = <class 'bool'>\n",
      "l = b'Hello', type = <class 'bytes'>\n",
      "m = bytearray(b'\\x00\\x00\\x00\\x00\\x00'), type = <class 'bytearray'>\n",
      "n = <memory at 0x00000287F26A7280>, type = <class 'memoryview'>\n",
      "o = None, type = <class 'NoneType'>\n",
      "\n",
      "Output has been saved to 'output.txt'\n"
     ]
    }
   ],
   "source": [
    "# Step 1: Define all variables with various data types\n",
    "a = \"Hello World\"\n",
    "b = 20\n",
    "c = 20.5\n",
    "d = 1j\n",
    "e = [\"apple\", \"banana\", \"cherry\"]\n",
    "f = (\"apple\", \"banana\", \"cherry\")\n",
    "g = range(6)\n",
    "h = {\"name\": \"John\", \"age\": 36}\n",
    "i = {\"apple\", \"banana\", \"cherry\"}\n",
    "j = frozenset({\"apple\", \"banana\", \"cherry\"})\n",
    "k = True\n",
    "l = b\"Hello\"\n",
    "m = bytearray(5)\n",
    "n = memoryview(bytes(5))\n",
    "o = None\n",
    "\n",
    "# Step 2: Prepare lists of variable names and their corresponding values\n",
    "variables = [a, b, c, d, e, f, g, h, i, j, k, l, m, n, o]\n",
    "names = ['a', 'b', 'c', 'd', 'e', 'f', 'g', 'h', 'i', 'j', 'k', 'l', 'm', 'n', 'o']\n",
    "\n",
    "# Step 3: Collect all output lines in a string\n",
    "output_str = \"\"\n",
    "for name, var in zip(names, variables):\n",
    "    output_str += f\"{name} = {var}, type = {type(var)}\\n\"\n",
    "\n",
    "# Step 4: Save output to a text file\n",
    "with open(\"output.txt\", \"w\") as file:\n",
    "    file.write(output_str)\n",
    "\n",
    "# Step 5: Print the output to the console\n",
    "print(output_str)\n",
    "print(\"Output has been saved to 'output.txt'\")\n"
   ]
  },
  {
   "cell_type": "raw",
   "id": "e5fd5cd6-8abb-45c9-807a-2b8b26d490fc",
   "metadata": {},
   "source": [
    "Python Numbers"
   ]
  },
  {
   "cell_type": "code",
   "execution_count": 73,
   "id": "5580ba45-2088-423e-a3d0-551b9060af0c",
   "metadata": {},
   "outputs": [],
   "source": [
    "# There are three numeric types in Python:\n",
    "\n",
    "# int     = 1\n",
    "# float   = 2.8\n",
    "# complex = 3j"
   ]
  },
  {
   "cell_type": "code",
   "execution_count": 71,
   "id": "315a20a9-ea82-41e7-89dd-57c7850c3fb9",
   "metadata": {},
   "outputs": [
    {
     "name": "stdout",
     "output_type": "stream",
     "text": [
      "<class 'int'>\n",
      "<class 'int'>\n",
      "<class 'int'>\n"
     ]
    }
   ],
   "source": [
    "# Int\n",
    "x = 1\n",
    "y = 35656222554887711\n",
    "z = -3255522\n",
    "\n",
    "print(type(x))\n",
    "print(type(y))\n",
    "print(type(z))"
   ]
  },
  {
   "cell_type": "code",
   "execution_count": 75,
   "id": "5199c6c5-ddc9-41fa-ade2-4a4b2434321d",
   "metadata": {},
   "outputs": [
    {
     "name": "stdout",
     "output_type": "stream",
     "text": [
      "<class 'float'>\n",
      "<class 'float'>\n",
      "<class 'float'>\n"
     ]
    }
   ],
   "source": [
    "# Float\n",
    "x = 1.10\n",
    "y = 1.0\n",
    "z = -35.59\n",
    "\n",
    "print(type(x))\n",
    "print(type(y))\n",
    "print(type(z))"
   ]
  },
  {
   "cell_type": "code",
   "execution_count": 77,
   "id": "f4d27d98-37e1-41e7-987d-e1ad2fd504a7",
   "metadata": {},
   "outputs": [
    {
     "name": "stdout",
     "output_type": "stream",
     "text": [
      "<class 'complex'>\n",
      "<class 'complex'>\n",
      "<class 'complex'>\n"
     ]
    }
   ],
   "source": [
    "# Complex\n",
    "x = 3+5j\n",
    "y = 5j\n",
    "z = -5j\n",
    "\n",
    "print(type(x))\n",
    "print(type(y))\n",
    "print(type(z))"
   ]
  },
  {
   "cell_type": "code",
   "execution_count": 79,
   "id": "a9bba2df-6cab-466a-ad4c-cbaf42fa44d2",
   "metadata": {},
   "outputs": [
    {
     "name": "stdout",
     "output_type": "stream",
     "text": [
      "1.0\n",
      "2\n",
      "(1+0j)\n",
      "<class 'float'>\n",
      "<class 'int'>\n",
      "<class 'complex'>\n"
     ]
    }
   ],
   "source": [
    "\"\"\"\n",
    "Type Conversion\n",
    "\"\"\"\n",
    "x = 1    # int\n",
    "y = 2.8  # float\n",
    "z = 1j   # complex\n",
    "\n",
    "#convert from int to float:\n",
    "a = float(x)\n",
    "\n",
    "#convert from float to int:\n",
    "b = int(y)\n",
    "\n",
    "#convert from int to complex:\n",
    "c = complex(x)\n",
    "\n",
    "print(a)\n",
    "print(b)\n",
    "print(c)\n",
    "\n",
    "print(type(a))\n",
    "print(type(b))\n",
    "print(type(c))"
   ]
  },
  {
   "cell_type": "code",
   "execution_count": 81,
   "id": "8320e8ae-9957-49fb-aac9-c9cdbfe2126f",
   "metadata": {},
   "outputs": [
    {
     "name": "stdout",
     "output_type": "stream",
     "text": [
      "7\n"
     ]
    }
   ],
   "source": [
    "## Random Number\n",
    "\n",
    "import random \n",
    "print(random.randrange(1,10))"
   ]
  },
  {
   "cell_type": "code",
   "execution_count": 93,
   "id": "f8002d1c-766c-4567-b013-f684c7d97213",
   "metadata": {},
   "outputs": [
    {
     "name": "stdout",
     "output_type": "stream",
     "text": [
      "1 2 3\n"
     ]
    }
   ],
   "source": [
    "## Python Casting - Integers\n",
    "\n",
    "x = int(1)     # x will be 1\n",
    "y = int(2.8)   # y will be 2 (converts float to int)\n",
    "z = int(\"3\")   # z will be 3 (converts string to int)\n",
    "\n",
    "print(x, y, z)"
   ]
  },
  {
   "cell_type": "code",
   "execution_count": 97,
   "id": "ae10d565-819a-4a31-a307-83ebeef9dc20",
   "metadata": {},
   "outputs": [
    {
     "name": "stdout",
     "output_type": "stream",
     "text": [
      "1.0 2.8 3.0\n"
     ]
    }
   ],
   "source": [
    "## Floats:\n",
    "\n",
    "x = float(1)     # x will be 1.0\n",
    "y = float(2.8)   # y will be 2.8\n",
    "z = float(\"3\")   # z will be 3.0\n",
    "w = float(\"4.2\") # w will be 4.2\n",
    "print(x, y, z)"
   ]
  },
  {
   "cell_type": "code",
   "execution_count": 101,
   "id": "94103fdd-6889-48ef-bd11-da12eb4af901",
   "metadata": {},
   "outputs": [
    {
     "name": "stdout",
     "output_type": "stream",
     "text": [
      "s1 2 3.0\n"
     ]
    }
   ],
   "source": [
    "## Strings:\n",
    "\n",
    "x = str(\"s1\") # x will be 's1'\n",
    "y = str(2)    # y will be '2'\n",
    "z = str(3.0)  # z will be '3.0'\n",
    "print(x, y, z)"
   ]
  },
  {
   "cell_type": "markdown",
   "id": "67aa89b5-8cb7-4018-ac23-e7d5565b20db",
   "metadata": {},
   "source": [
    "STRINGS"
   ]
  },
  {
   "cell_type": "code",
   "execution_count": 105,
   "id": "b246f387-e2ef-4723-a081-50c15b46da41",
   "metadata": {},
   "outputs": [
    {
     "name": "stdout",
     "output_type": "stream",
     "text": [
      "Hello\n",
      "Hello\n"
     ]
    }
   ],
   "source": [
    "print(\"Hello\")\n",
    "print('Hello')"
   ]
  },
  {
   "cell_type": "code",
   "execution_count": 107,
   "id": "f798b4b1-bb81-47d1-a261-6769abe7d755",
   "metadata": {},
   "outputs": [
    {
     "name": "stdout",
     "output_type": "stream",
     "text": [
      "It's alright\n",
      "He is called 'Johnny'\n",
      "He is called \"Johnny\"\n"
     ]
    }
   ],
   "source": [
    "## Quotes Inside Quotes\n",
    "print(\"It's alright\")\n",
    "print(\"He is called 'Johnny'\")\n",
    "print('He is called \"Johnny\"')"
   ]
  },
  {
   "cell_type": "code",
   "execution_count": 109,
   "id": "405afebd-c55e-4346-b3c6-ecb487aaed05",
   "metadata": {},
   "outputs": [
    {
     "name": "stdout",
     "output_type": "stream",
     "text": [
      "Hello\n"
     ]
    }
   ],
   "source": [
    "## Assign String to a Variable\n",
    "a = \"Hello\"\n",
    "print(a)"
   ]
  },
  {
   "cell_type": "code",
   "execution_count": 111,
   "id": "32a083d0-deeb-456e-909c-516d9d21fbee",
   "metadata": {},
   "outputs": [
    {
     "name": "stdout",
     "output_type": "stream",
     "text": [
      "Lorem ipsum dolor sit amet,\n",
      "consectetur adipiscing elit,\n",
      "sed do eiusmod tempor incididunt\n",
      "ut labore et dolore magna aliqua.\n"
     ]
    }
   ],
   "source": [
    "## Multiline Strings\n",
    "a = \"\"\"Lorem ipsum dolor sit amet,\n",
    "consectetur adipiscing elit,\n",
    "sed do eiusmod tempor incididunt\n",
    "ut labore et dolore magna aliqua.\"\"\"\n",
    "print(a)\n"
   ]
  },
  {
   "cell_type": "code",
   "execution_count": 113,
   "id": "d3e68cda-6711-4136-b993-d01ea0af935b",
   "metadata": {},
   "outputs": [
    {
     "name": "stdout",
     "output_type": "stream",
     "text": [
      "e\n"
     ]
    }
   ],
   "source": [
    "## Strings are Arrays\n",
    "a = \"Hello, World!\" #0123456789\n",
    "print(a[1])"
   ]
  },
  {
   "cell_type": "code",
   "execution_count": 115,
   "id": "7e6db533-9148-438c-b5a6-e98977cc1e7d",
   "metadata": {},
   "outputs": [
    {
     "name": "stdout",
     "output_type": "stream",
     "text": [
      "b\n",
      "a\n",
      "n\n",
      "a\n",
      "n\n",
      "a\n"
     ]
    }
   ],
   "source": [
    "## Looping Through a String\n",
    "for x in \"banana\":\n",
    "  print(x)"
   ]
  },
  {
   "cell_type": "code",
   "execution_count": 117,
   "id": "017fb451-e6ce-4016-b9bf-de325a8f97ac",
   "metadata": {},
   "outputs": [
    {
     "name": "stdout",
     "output_type": "stream",
     "text": [
      "13\n"
     ]
    }
   ],
   "source": [
    "## String Length\n",
    "a = \"Hello, World!\"\n",
    "print(len(a))"
   ]
  },
  {
   "cell_type": "code",
   "execution_count": 119,
   "id": "07e8198e-9380-4e3f-806c-44d93473ba21",
   "metadata": {},
   "outputs": [
    {
     "name": "stdout",
     "output_type": "stream",
     "text": [
      "True\n"
     ]
    }
   ],
   "source": [
    "## Check String\n",
    "txt = \"The best things in life are free!\"\n",
    "print(\"free\" in txt)\n"
   ]
  },
  {
   "cell_type": "code",
   "execution_count": 121,
   "id": "e020da64-ec82-4d92-b75e-ae9a81633020",
   "metadata": {},
   "outputs": [
    {
     "name": "stdout",
     "output_type": "stream",
     "text": [
      "Yes, 'free' is present.\n"
     ]
    }
   ],
   "source": [
    "#Use it in an if statement:\n",
    "txt = \"The best things in life are free!\"\n",
    "if \"free\" in txt:\n",
    "  print(\"Yes, 'free' is present.\")"
   ]
  },
  {
   "cell_type": "code",
   "execution_count": 123,
   "id": "8950c0e0-9843-480a-bc98-f6757ef60d6b",
   "metadata": {},
   "outputs": [
    {
     "name": "stdout",
     "output_type": "stream",
     "text": [
      "True\n"
     ]
    }
   ],
   "source": [
    "#Check if NOT\n",
    "txt = \"The best things in life are free!\"\n",
    "print(\"expensive\" not in txt)"
   ]
  },
  {
   "cell_type": "code",
   "execution_count": 125,
   "id": "40a5537e-9e16-4f15-b6ff-623611528ca7",
   "metadata": {},
   "outputs": [
    {
     "name": "stdout",
     "output_type": "stream",
     "text": [
      "No, 'expensive' is NOT present.\n"
     ]
    }
   ],
   "source": [
    "# Use it in an if statement:\n",
    "txt = \"The best things in life are free!\"\n",
    "if \"expensive\" not in txt:\n",
    "  print(\"No, 'expensive' is NOT present.\")"
   ]
  },
  {
   "cell_type": "raw",
   "id": "8f8e1a7d-b277-48c5-b894-41627a5eaefc",
   "metadata": {},
   "source": [
    "Slicing Strings"
   ]
  },
  {
   "cell_type": "code",
   "execution_count": 127,
   "id": "500cf3b0-10f2-4fe7-bd97-6d696a13d055",
   "metadata": {},
   "outputs": [
    {
     "name": "stdout",
     "output_type": "stream",
     "text": [
      "llo\n"
     ]
    }
   ],
   "source": [
    "##You can return a range of characters by using the slice syntax.\n",
    "##Get the characters from position 2 to position 5 (not included):\n",
    "b = \"Hello, World!\"\n",
    "print(b[2:5])"
   ]
  },
  {
   "cell_type": "code",
   "execution_count": 129,
   "id": "7028e1ea-a132-46f0-84d8-aa10a7236c59",
   "metadata": {},
   "outputs": [
    {
     "name": "stdout",
     "output_type": "stream",
     "text": [
      "Daris\n"
     ]
    }
   ],
   "source": [
    "## Slice From the Start\n",
    "b = \"Darisrevanth\"\n",
    "print(b[:5])"
   ]
  },
  {
   "cell_type": "code",
   "execution_count": 131,
   "id": "50d644c0-5b55-4235-a6b5-0c120d229a57",
   "metadata": {},
   "outputs": [
    {
     "name": "stdout",
     "output_type": "stream",
     "text": [
      "risrevanth\n"
     ]
    }
   ],
   "source": [
    "## Slice To the End\n",
    "b = \"darisrevanth\"\n",
    "print(b[2:])"
   ]
  },
  {
   "cell_type": "code",
   "execution_count": 135,
   "id": "f8184f77-0f52-4992-b0f1-4c7a258db78c",
   "metadata": {},
   "outputs": [
    {
     "name": "stdout",
     "output_type": "stream",
     "text": [
      "van\n"
     ]
    }
   ],
   "source": [
    "## Negative Indexing\n",
    "#Get the characters:\n",
    "\n",
    "#From: \"v\" in \"World!\" (position -5)\n",
    "\n",
    "#To, but not included: \"t\" in \"World!\" (position -2):\n",
    "\n",
    "b = \"DarisRevanth\"\n",
    "print(b[-5:-2])"
   ]
  },
  {
   "cell_type": "code",
   "execution_count": 137,
   "id": "c05f872a-ec31-4b4b-8f3e-d7e1923467d0",
   "metadata": {},
   "outputs": [
    {
     "name": "stdout",
     "output_type": "stream",
     "text": [
      "DARISREVANTH\n"
     ]
    }
   ],
   "source": [
    "## Modify Strings\n",
    "# Upper Case:\n",
    "a = \"darisrevanth\"\n",
    "print(a.upper())"
   ]
  },
  {
   "cell_type": "code",
   "execution_count": 143,
   "id": "a01885d0-69e2-4265-85eb-cbadd739098b",
   "metadata": {},
   "outputs": [
    {
     "name": "stdout",
     "output_type": "stream",
     "text": [
      "daris revanth\n"
     ]
    }
   ],
   "source": [
    "# Lower Case\n",
    "a = \"Daris Revanth\"\n",
    "print(a.lower())"
   ]
  },
  {
   "cell_type": "code",
   "execution_count": 147,
   "id": "03ffc62c-5461-4a9d-91c2-1b580aa62791",
   "metadata": {},
   "outputs": [
    {
     "name": "stdout",
     "output_type": "stream",
     "text": [
      "Daris Revanth\n"
     ]
    }
   ],
   "source": [
    "# Remove Whitespace\n",
    "a = \" Daris Revanth\"\n",
    "print(a.strip())"
   ]
  },
  {
   "cell_type": "code",
   "execution_count": 149,
   "id": "286f1f7a-0887-4469-afad-1b6fa2bf5610",
   "metadata": {},
   "outputs": [
    {
     "name": "stdout",
     "output_type": "stream",
     "text": [
      "Jiim Revanth\n"
     ]
    }
   ],
   "source": [
    "# Replace String\n",
    "a =\"Daris Revanth\"\n",
    "print(a.replace(\"Daris\", \"Jiim\"))"
   ]
  },
  {
   "cell_type": "code",
   "execution_count": 151,
   "id": "808fac95-1f2a-4fee-8b10-e4f2c760fcd1",
   "metadata": {},
   "outputs": [
    {
     "name": "stdout",
     "output_type": "stream",
     "text": [
      "['Daris', 'Revanth']\n"
     ]
    }
   ],
   "source": [
    "# Split String\n",
    "a = \"Daris Revanth\"\n",
    "print(a.split()) "
   ]
  },
  {
   "cell_type": "code",
   "execution_count": 157,
   "id": "1e473b28-e8df-4469-a38e-e307cd1a409c",
   "metadata": {},
   "outputs": [
    {
     "name": "stdout",
     "output_type": "stream",
     "text": [
      "DarisRevanth\n"
     ]
    }
   ],
   "source": [
    "## String Concatenation\n",
    "a = \"Daris\"\n",
    "b = \"Revanth\"\n",
    "c = a + b\n",
    "print(c)"
   ]
  },
  {
   "cell_type": "code",
   "execution_count": 159,
   "id": "daef78f7-269b-44ca-9360-0ba9e1342aef",
   "metadata": {},
   "outputs": [
    {
     "name": "stdout",
     "output_type": "stream",
     "text": [
      "Daris Revanth\n"
     ]
    }
   ],
   "source": [
    "#To add a space between them, add a \" \":\n",
    "a = \"Daris\"\n",
    "b = \"Revanth\"\n",
    "c = a + \" \" + b\n",
    "print(c)"
   ]
  },
  {
   "cell_type": "code",
   "execution_count": 165,
   "id": "ac95128f-778c-4f84-9378-0fe4f941163f",
   "metadata": {},
   "outputs": [
    {
     "name": "stdout",
     "output_type": "stream",
     "text": [
      "My name is Geetha, I am 35\n"
     ]
    }
   ],
   "source": [
    "# Format - Strings :\n",
    "\"\"\"\n",
    "As we learned in the Python Variables chapter, \n",
    "we cannot combine strings and numbers like this:\n",
    "\n",
    "But we can combine strings and numbers by\n",
    " using f-strings or the format() method!\n",
    " \"\"\"\n",
    "# F-Strings\n",
    "\n",
    "age = 35\n",
    "txt = f\"My name is Geetha, I am {age}\"\n",
    "print(txt)\n"
   ]
  },
  {
   "cell_type": "code",
   "execution_count": 167,
   "id": "cfdee05a-5244-407a-8116-9df00102e4a5",
   "metadata": {},
   "outputs": [
    {
     "name": "stdout",
     "output_type": "stream",
     "text": [
      "The price is 59 dollars\n"
     ]
    }
   ],
   "source": [
    "# Placeholders and Modifiers\n",
    "price = 59\n",
    "txt = f\"The price is {price} dollars\"\n",
    "print(txt)"
   ]
  },
  {
   "cell_type": "code",
   "execution_count": 173,
   "id": "c43135d3-5cb1-4dd7-938c-f6b5b41e7c22",
   "metadata": {},
   "outputs": [
    {
     "name": "stdout",
     "output_type": "stream",
     "text": [
      "The price is 59.00 dollars\n"
     ]
    }
   ],
   "source": [
    "# Display the price with 2 decimals:\n",
    "price = 59\n",
    "txt = f\"The price is {price:.2f} dollars\"\n",
    "##.2f2f which means fixed point number with 2 decimals\n",
    "print(txt)"
   ]
  },
  {
   "cell_type": "code",
   "execution_count": 175,
   "id": "863e8318-327c-4cf1-8ab8-9039389168a5",
   "metadata": {},
   "outputs": [
    {
     "name": "stdout",
     "output_type": "stream",
     "text": [
      "The price is 1180 dollars\n"
     ]
    }
   ],
   "source": [
    "## A placeholder can contain Python code, like math operations:\n",
    "# Perform a math operation in the placeholder, and return the result:\n",
    "\n",
    "txt = f\"The price is {20 * 59} dollars\"\n",
    "print(txt)"
   ]
  },
  {
   "cell_type": "code",
   "execution_count": 177,
   "id": "a68fbf06-4114-4adb-b3db-410a7133ad5b",
   "metadata": {},
   "outputs": [
    {
     "name": "stdout",
     "output_type": "stream",
     "text": [
      "We are the so-called \"Vikings\" from the north.\n"
     ]
    }
   ],
   "source": [
    "## Escape Characters\n",
    "\"\"\"\n",
    "You will get an error if you use double quotes inside a\n",
    " string that is surrounded by double quotes: \n",
    "To fix this problem, use the escape character \\\":\n",
    "\"\"\"\n",
    "txt = \"We are the so-called \\\"Vikings\\\" from the north.\"\n",
    "print(txt)"
   ]
  },
  {
   "cell_type": "code",
   "execution_count": 187,
   "id": "e3d0d798-40d1-48ae-bc78-8711e91749ad",
   "metadata": {},
   "outputs": [
    {
     "name": "stdout",
     "output_type": "stream",
     "text": [
      "a. Single Quote (\\'):\n",
      "   Example: It's a sunny day\n",
      "\n",
      "b. Backslash (\\\\):\n",
      "   Example: This is a backslash: \\\n",
      "\n",
      "c. New Line (\\n):\n",
      "   Example: First Line\n",
      "   Second Line\n",
      "\n",
      "d. Carriage Return (\\r):\n",
      "World\n",
      "\n",
      "e. Tab (\\t):\n",
      "   Example:\tTabbed text\n",
      "\n",
      "f. Backspace (\\b):\n",
      "   Example: ABD\n",
      "\n",
      "g. Form Feed (\\f):\n",
      "   Example: Hello\f",
      "World\n",
      "\n",
      "h. Octal Value (\\ooo):\n",
      "   Example (Octal): Hello\n",
      "\n",
      "i. Hex Value (\\xhh):\n",
      "   Example (Hex): Hello\n",
      "\n"
     ]
    }
   ],
   "source": [
    "# a - \\' = Single Quote\n",
    "print(\"a. Single Quote (\\\\'):\")\n",
    "print('   Example: It\\'s a sunny day')  # Output: It's a sunny day\n",
    "print()\n",
    "\n",
    "# b - \\\\ = Backslash\n",
    "print(\"b. Backslash (\\\\\\\\):\")\n",
    "print(\"   Example: This is a backslash: \\\\\")\n",
    "print()\n",
    "\n",
    "# c - \\n = New Line\n",
    "print(\"c. New Line (\\\\n):\")\n",
    "print(\"   Example: First Line\\n   Second Line\")\n",
    "print()\n",
    "\n",
    "# d - \\r = Carriage Return\n",
    "print(\"d. Carriage Return (\\\\r):\")\n",
    "print(\"Hello\\rWorld\")  # May overwrite \"Hello\" depending on terminal\n",
    "print()\n",
    "\n",
    "# e - \\t = Tab\n",
    "print(\"e. Tab (\\\\t):\")\n",
    "print(\"   Example:\\tTabbed text\")\n",
    "print()\n",
    "\n",
    "# f - \\b = Backspace\n",
    "print(\"f. Backspace (\\\\b):\")\n",
    "print(\"   Example: ABC\\bD\")  # Output: ABD (B is removed)\n",
    "print()\n",
    "\n",
    "# g - \\f = Form Feed\n",
    "print(\"g. Form Feed (\\\\f):\")\n",
    "print(\"   Example: Hello\\fWorld\")  # May insert a page break or space\n",
    "print()\n",
    "\n",
    "# h - \\ooo = Octal Value\n",
    "print(\"h. Octal Value (\\\\ooo):\")\n",
    "print(\"   Example (Octal): \\110\\145\\154\\154\\157\")  # Output: Hello\n",
    "print()\n",
    "\n",
    "# i - \\xhh = Hex Value\n",
    "print(\"i. Hex Value (\\\\xhh):\")\n",
    "print(\"   Example (Hex): \\x48\\x65\\x6c\\x6c\\x6f\")  # Output: Hello\n",
    "print()\n"
   ]
  },
  {
   "cell_type": "markdown",
   "id": "23101cce-94a7-4f5d-9dae-c01e794b50f3",
   "metadata": {},
   "source": [
    "## String Methods\n",
    "\n",
    "| Method         | Description                                                                 |\n",
    "|----------------|-----------------------------------------------------------------------------|\n",
    "| capitalize()   | Converts the first character to upper case                                  |\n",
    "| casefold()     | Converts string into lower case                                             |\n",
    "| center()       | Returns a centered string                                                   |\n",
    "| count()        | Returns the number of times a specified value occurs in a string            |\n",
    "| encode()       | Returns an encoded version of the string                                    |\n",
    "| endswith()     | Returns true if the string ends with the specified value                    |\n",
    "| expandtabs()   | Sets the tab size of the string                                             |\n",
    "| find()         | Searches the string for a specified value and returns the position          |\n",
    "| format()       | Formats specified values in a string                                        |\n",
    "| format_map()   | Formats specified values in a string                                        |\n",
    "| index()        | Searches the string for a specified value and returns the position          |\n",
    "| isalnum()      | Returns True if all characters in the string are alphanumeric               |\n",
    "| isalpha()      | Returns True if all characters in the string are in the alphabet            |\n",
    "| isascii()      | Returns True if all characters in the string are ascii characters           |\n",
    "| isdecimal()    | Returns True if all characters in the string are decimals                   |\n",
    "| isdigit()      | Returns True if all characters in the string are digits                     |\n",
    "| isidentifier() | Returns True if the string is an identifier                                 |\n",
    "| islower()      | Returns True if all characters in the string are lower case                 |\n",
    "| isnumeric()    | Returns True if all characters in the string are numeric                    |\n",
    "| isprintable()  | Returns True if all characters in the string are printable                  |\n",
    "| isspace()      | Returns True if all characters in the string are whitespaces                |\n",
    "| istitle()      | Returns True if the string follows the rules of a title                     |\n",
    "| isupper()      | Returns True if all characters in the string are upper case                 |\n",
    "| join()         | Joins the elements of an iterable to the end of the string                  |\n",
    "| ljust()        | Returns a left justified version of the string                              |\n",
    "| lower()        | Converts a string into lower case                                           |\n",
    "| lstrip()       | Returns a left trim version of the string                                   |\n",
    "| maketrans()    | Returns a translation table to be used in translations                      |\n",
    "| partition()    | Returns a tuple where the string is parted into three parts                 |\n",
    "| replace()      | Returns a string where a specified value is replaced                        |\n",
    "| rfind()        | Returns the last position of a specified value                              |\n",
    "| rindex()       | Returns the last index of a specified value                                 |\n",
    "| rjust()        | Returns a right justified version of the string                             |\n",
    "| rpartition()   | Returns a tuple where the string is parted into three parts                 |\n",
    "| rsplit()       | Splits the string at the specified separator, and returns a list            |\n",
    "| rstrip()       | Returns a right trim version of the string                                  |\n",
    "| split()        | Splits the string at the specified separator, and returns a list            |\n",
    "| splitlines()   | Splits the string at line breaks and returns a list                         |\n",
    "| startswith()   | Returns true if the string starts with the specified value                  |\n",
    "| strip()        | Returns a trimmed version of the string                                     |\n",
    "| swapcase()     | Swaps cases, lower case becomes upper case and vice versa                   |\n",
    "| title()        | Converts the first character of each word to upper case                     |\n",
    "| translate()    | Returns a translated string                                                 |\n",
    "| upper()        | Converts a string into upper case                                           |\n",
    "| zfill()        | Fills the string with a specified number of 0 values at the beginning       |\n"
   ]
  }
 ],
 "metadata": {
  "kernelspec": {
   "display_name": "Python (project_DS)",
   "language": "python",
   "name": "project_ds"
  },
  "language_info": {
   "codemirror_mode": {
    "name": "ipython",
    "version": 3
   },
   "file_extension": ".py",
   "mimetype": "text/x-python",
   "name": "python",
   "nbconvert_exporter": "python",
   "pygments_lexer": "ipython3",
   "version": "3.10.18"
  }
 },
 "nbformat": 4,
 "nbformat_minor": 5
}
