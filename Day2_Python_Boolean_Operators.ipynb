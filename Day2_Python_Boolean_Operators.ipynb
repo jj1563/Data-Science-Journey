{
 "cells": [
  {
   "cell_type": "markdown",
   "id": "d0ee884c-09aa-46d4-a51f-20c923a2d6a1",
   "metadata": {},
   "source": [
    "Booleans"
   ]
  },
  {
   "cell_type": "code",
   "execution_count": 3,
   "id": "7c20221e-d784-4da6-8f78-04aee6db37c4",
   "metadata": {},
   "outputs": [
    {
     "name": "stdout",
     "output_type": "stream",
     "text": [
      "True\n",
      "False\n",
      "False\n"
     ]
    }
   ],
   "source": [
    "## Booleans represent one of two values: True or False.\n",
    "print(10 > 9)\n",
    "print(10 == 9)\n",
    "print(10 < 9)"
   ]
  },
  {
   "cell_type": "code",
   "execution_count": 5,
   "id": "f8e812a8-431c-4d10-a364-9c2296d8459b",
   "metadata": {},
   "outputs": [
    {
     "name": "stdout",
     "output_type": "stream",
     "text": [
      "b is not greater than a\n"
     ]
    }
   ],
   "source": [
    "# When you run a condition in an if statement, Python returns True or False:\n",
    "\n",
    "a = 200\n",
    "b = 33\n",
    "\n",
    "if b > a:\n",
    "  print(\"b is greater than a\")\n",
    "else:\n",
    "  print(\"b is not greater than a\")"
   ]
  },
  {
   "cell_type": "raw",
   "id": "20466ab1-97df-4205-99a7-e166f47e5668",
   "metadata": {},
   "source": [
    "Evaluate Values and Variables"
   ]
  },
  {
   "cell_type": "code",
   "execution_count": 7,
   "id": "afd1fd9f-7243-48fa-891b-df140746132a",
   "metadata": {},
   "outputs": [
    {
     "name": "stdout",
     "output_type": "stream",
     "text": [
      "True\n",
      "True\n"
     ]
    }
   ],
   "source": [
    "print(bool(\"Hello\"))\n",
    "print(bool(15))"
   ]
  },
  {
   "cell_type": "code",
   "execution_count": 9,
   "id": "53898009-c22b-46ab-bfb5-eb196db860d9",
   "metadata": {},
   "outputs": [
    {
     "name": "stdout",
     "output_type": "stream",
     "text": [
      "True\n",
      "True\n"
     ]
    }
   ],
   "source": [
    "x = \"Hello\"\n",
    "y = 15\n",
    "\n",
    "print(bool(x))\n",
    "print(bool(y))"
   ]
  },
  {
   "cell_type": "raw",
   "id": "172816fe-2b0f-4791-a751-55857ca5dbb8",
   "metadata": {},
   "source": [
    "Most Values are True"
   ]
  },
  {
   "cell_type": "raw",
   "id": "09b13e47-e0d3-45ae-86fd-92cca4b4215d",
   "metadata": {},
   "source": [
    "\"\"\"\n",
    "Almost any value is evaluated to True if it has some sort of content.\n",
    "\n",
    "Any string is True, except empty strings.\n",
    "\n",
    "Any number is True, except 0.\n",
    "\n",
    "Any list, tuple, set, and dictionary are True, except empty ones.\n",
    "\"\"\""
   ]
  },
  {
   "cell_type": "code",
   "execution_count": 11,
   "id": "2daaea77-bc98-4e68-8497-d702377bd794",
   "metadata": {},
   "outputs": [
    {
     "data": {
      "text/plain": [
       "True"
      ]
     },
     "execution_count": 11,
     "metadata": {},
     "output_type": "execute_result"
    }
   ],
   "source": [
    "bool(\"abc\")\n",
    "bool(123)\n",
    "bool([\"apple\", \"cherry\", \"banana\"])"
   ]
  },
  {
   "cell_type": "raw",
   "id": "71749c37-6719-471b-9542-690894c20805",
   "metadata": {},
   "source": [
    "Some Values are False"
   ]
  },
  {
   "cell_type": "raw",
   "id": "b03f7524-640f-4dd3-b0de-00b164da97d4",
   "metadata": {},
   "source": [
    "In fact, there are not many values that evaluate to False, except empty values, such as (), [], {}, \"\", the number 0, and the value None. And of course the value False evaluates to False."
   ]
  },
  {
   "cell_type": "code",
   "execution_count": 13,
   "id": "2eafc9e5-1747-4293-814a-72edb16bec75",
   "metadata": {},
   "outputs": [
    {
     "data": {
      "text/plain": [
       "False"
      ]
     },
     "execution_count": 13,
     "metadata": {},
     "output_type": "execute_result"
    }
   ],
   "source": [
    "bool(False)\n",
    "bool(None)\n",
    "bool(0)\n",
    "bool(\"\")\n",
    "bool(())\n",
    "bool([])\n",
    "bool({})"
   ]
  },
  {
   "cell_type": "code",
   "execution_count": 15,
   "id": "8c49b8de-c516-4c38-b249-b61bdd46e6be",
   "metadata": {},
   "outputs": [
    {
     "name": "stdout",
     "output_type": "stream",
     "text": [
      "False\n"
     ]
    }
   ],
   "source": [
    "class myclass():\n",
    "  def __len__(self):\n",
    "    return 0\n",
    "\n",
    "myobj = myclass()\n",
    "print(bool(myobj))"
   ]
  },
  {
   "cell_type": "raw",
   "id": "cf1ea9e8-1a9a-4976-a4c1-b4e5244c9e4a",
   "metadata": {},
   "source": [
    "Functions can Return a Boolean"
   ]
  },
  {
   "cell_type": "code",
   "execution_count": 17,
   "id": "2cd59858-f732-47b0-aa9b-bc6a9d5b1087",
   "metadata": {},
   "outputs": [
    {
     "name": "stdout",
     "output_type": "stream",
     "text": [
      "True\n"
     ]
    }
   ],
   "source": [
    "# You can create functions that returns a Boolean Value:\n",
    "\n",
    "def myFunction() :\n",
    "  return True\n",
    "\n",
    "print(myFunction())"
   ]
  },
  {
   "cell_type": "code",
   "execution_count": 19,
   "id": "bb6ed266-4f95-4a82-b15a-b2e62d6db680",
   "metadata": {},
   "outputs": [
    {
     "name": "stdout",
     "output_type": "stream",
     "text": [
      "YES!\n"
     ]
    }
   ],
   "source": [
    "# Print \"YES!\" if the function returns True, otherwise print \"NO!\":\n",
    "\n",
    "def myFunction() :\n",
    "  return True\n",
    "\n",
    "if myFunction():\n",
    "  print(\"YES!\")\n",
    "else:\n",
    "  print(\"NO!\")"
   ]
  },
  {
   "cell_type": "raw",
   "id": "7ca3c2e2-ca26-46b8-aff5-2072591ad092",
   "metadata": {},
   "source": [
    "Python also has many built-in functions that return a boolean value, like the isinstance() function, which can be used to determine if an object is of a certain data type:"
   ]
  },
  {
   "cell_type": "code",
   "execution_count": 21,
   "id": "ad0901f1-3fae-45ef-9022-9976fd2975f4",
   "metadata": {},
   "outputs": [
    {
     "name": "stdout",
     "output_type": "stream",
     "text": [
      "True\n"
     ]
    }
   ],
   "source": [
    "x = 200\n",
    "print(isinstance(x, int))"
   ]
  },
  {
   "cell_type": "markdown",
   "id": "1f24f17c-8457-4140-9964-cfa80f5104df",
   "metadata": {},
   "source": [
    "Operators"
   ]
  },
  {
   "cell_type": "raw",
   "id": "2fde9c7d-a28f-476b-a872-2757b92913f7",
   "metadata": {},
   "source": [
    "Operators are used to perform operations on variables and values.\n",
    "\n",
    "In the example below, we use the + operator to add together two values:"
   ]
  },
  {
   "cell_type": "code",
   "execution_count": 24,
   "id": "5fdbf01e-f4da-47c5-8433-70506f679ba1",
   "metadata": {},
   "outputs": [
    {
     "name": "stdout",
     "output_type": "stream",
     "text": [
      "15\n"
     ]
    }
   ],
   "source": [
    "print(10 + 5)"
   ]
  },
  {
   "cell_type": "markdown",
   "id": "0182cf98-7ad2-49e8-b14a-2bcd5c9a1769",
   "metadata": {},
   "source": [
    "Python divides the operators in the following groups:\n",
    "\n",
    "* Arithmetic operators\n",
    "* Assignment operators\n",
    "* Comparison operators\n",
    "* Logical operators\n",
    "* Identity operators\n",
    "* Membership operators\n",
    "* Bitwise operators"
   ]
  },
  {
   "cell_type": "raw",
   "id": "c59eda75-dcd1-49b5-8d22-102d85b93d10",
   "metadata": {},
   "source": [
    "Arithmetic Operators :"
   ]
  },
  {
   "cell_type": "code",
   "execution_count": 27,
   "id": "21a48571-22ba-4186-8aa2-40dab7154646",
   "metadata": {},
   "outputs": [
    {
     "name": "stdout",
     "output_type": "stream",
     "text": [
      "A. Addition (+)           :  15\n",
      "B. Subtraction (-)        :  5\n",
      "C. Multiplication (*)     :  50\n",
      "D. Division (/)           :  2.0\n",
      "E. Modulus (%)            :  0\n",
      "F. Exponentiation (**)    :  100000\n",
      "G. Floor Division (//)    :  2\n"
     ]
    }
   ],
   "source": [
    "# Arithmetic Operators in Python\n",
    "# A to G format for clear understanding\n",
    "\n",
    "# A. Addition (+)\n",
    "a = 10\n",
    "b = 5\n",
    "A = a + b                     # 10 + 5 = 15\n",
    "\n",
    "# B. Subtraction (-)\n",
    "\n",
    "B = a - b                     # 10 - 5 = 5\n",
    "\n",
    "# C. Multiplication (*)\n",
    "\n",
    "C = a * b                     # 10 * 5 = 50\n",
    "\n",
    "# D. Division (/)\n",
    "\n",
    "D = a / b                     # 10 / 5 = 2.0\n",
    "\n",
    "# E. Modulus (%) -> Remainder\n",
    "\n",
    "E = a % b                     # 10 % 5 = 0\n",
    "\n",
    "# F. Exponentiation (**)\n",
    "\n",
    "F = a ** b                    # 10 ** 5 = 100000\n",
    "\n",
    "# G. Floor Division (//) -> Removes decimal part\n",
    "\n",
    "G = a // b                    # 10 // 5 = 2\n",
    "\n",
    "# Output the results\n",
    "print(\"A. Addition (+)           : \", A)\n",
    "print(\"B. Subtraction (-)        : \", B)\n",
    "print(\"C. Multiplication (*)     : \", C)\n",
    "print(\"D. Division (/)           : \", D)\n",
    "print(\"E. Modulus (%)            : \", E)\n",
    "print(\"F. Exponentiation (**)    : \", F)\n",
    "print(\"G. Floor Division (//)    : \", G)\n"
   ]
  },
  {
   "cell_type": "raw",
   "id": "1a3975e2-8577-4bf2-933c-745496bb1646",
   "metadata": {},
   "source": [
    "Assignment Operators:"
   ]
  },
  {
   "cell_type": "code",
   "execution_count": 29,
   "id": "374e95a4-d605-42fb-9604-c636d2afe45a",
   "metadata": {},
   "outputs": [
    {
     "name": "stdout",
     "output_type": "stream",
     "text": [
      "A.  =   : 5\n",
      "B.  +=  : 8\n",
      "C.  -=  : 2\n",
      "D.  *=  : 15\n",
      "E.  /=  : 1.6666666666666667\n",
      "F.  %=  : 2\n",
      "G.  //= : 1\n",
      "H.  **= : 125\n",
      "I.  &=  : 1\n",
      "J.  |=  : 7\n",
      "K.  ^=  : 6\n",
      "L.  >>= : 2\n",
      "M.  <<= : 10\n",
      "N.  :=  : 3\n"
     ]
    }
   ],
   "source": [
    "# Assignment Operators in Python (Simple A to N format)\n",
    "\n",
    "x = 5  # Starting value\n",
    "\n",
    "A = x           # A: Assignment (=)\n",
    "B = x + 3       # B: x += 3\n",
    "C = x - 3       # C: x -= 3\n",
    "D = x * 3       # D: x *= 3\n",
    "E = x / 3       # E: x /= 3\n",
    "F = x % 3       # F: x %= 3\n",
    "G = x // 3      # G: x //= 3\n",
    "H = x ** 3      # H: x **= 3\n",
    "I = x & 3       # I: x &= 3\n",
    "J = x | 3       # J: x |= 3\n",
    "K = x ^ 3       # K: x ^= 3\n",
    "L = x >> 1      # L: x >>= 1\n",
    "M = x << 1      # M: x <<= 1\n",
    "N = (y := 3)    # N: Walrus (x := 3)\n",
    "\n",
    "# Print all results\n",
    "print(\"A.  =   :\", A)\n",
    "print(\"B.  +=  :\", B)\n",
    "print(\"C.  -=  :\", C)\n",
    "print(\"D.  *=  :\", D)\n",
    "print(\"E.  /=  :\", E)\n",
    "print(\"F.  %=  :\", F)\n",
    "print(\"G.  //= :\", G)\n",
    "print(\"H.  **= :\", H)\n",
    "print(\"I.  &=  :\", I)\n",
    "print(\"J.  |=  :\", J)\n",
    "print(\"K.  ^=  :\", K)\n",
    "print(\"L.  >>= :\", L)\n",
    "print(\"M.  <<= :\", M)\n",
    "print(\"N.  :=  :\", N)\n"
   ]
  },
  {
   "cell_type": "raw",
   "id": "91f09e6e-0f29-45e5-a804-4138ef391193",
   "metadata": {},
   "source": [
    "Comparison Operators:"
   ]
  },
  {
   "cell_type": "code",
   "execution_count": 31,
   "id": "b35bd505-3680-464b-91b7-dc1388931c9f",
   "metadata": {},
   "outputs": [
    {
     "name": "stdout",
     "output_type": "stream",
     "text": [
      "A. x == y  (Equal)                : False\n",
      "B. x != y  (Not Equal)            : True\n",
      "C. x > y   (Greater Than)         : True\n",
      "D. x < y   (Less Than)            : False\n",
      "E. x >= y  (Greater Than or Equal): True\n",
      "F. x <= y  (Less Than or Equal)   : False\n"
     ]
    }
   ],
   "source": [
    "# Comparison Operators in Python (Simple A to F format)\n",
    "\n",
    "x = 10\n",
    "y = 5\n",
    "\n",
    "A = (x == y)      # A: Equal\n",
    "B = (x != y)      # B: Not Equal\n",
    "C = (x > y)       # C: Greater Than\n",
    "D = (x < y)       # D: Less Than\n",
    "E = (x >= y)      # E: Greater Than or Equal\n",
    "F = (x <= y)      # F: Less Than or Equal\n",
    "\n",
    "# Print results\n",
    "print(\"A. x == y  (Equal)                :\", A)\n",
    "print(\"B. x != y  (Not Equal)            :\", B)\n",
    "print(\"C. x > y   (Greater Than)         :\", C)\n",
    "print(\"D. x < y   (Less Than)            :\", D)\n",
    "print(\"E. x >= y  (Greater Than or Equal):\", E)\n",
    "print(\"F. x <= y  (Less Than or Equal)   :\", F)\n"
   ]
  },
  {
   "cell_type": "raw",
   "id": "3182a004-39b0-4308-838c-289e5e1a52bc",
   "metadata": {},
   "source": [
    "Logical Operators:"
   ]
  },
  {
   "cell_type": "code",
   "execution_count": 33,
   "id": "d2c834e7-f642-4fd9-9351-ea3711ab1a2f",
   "metadata": {},
   "outputs": [
    {
     "name": "stdout",
     "output_type": "stream",
     "text": [
      "A. x > 5 and x < 10  (AND) : True\n",
      "B. x < 5 or x < 10   (OR)  : True\n",
      "C. not(x > 5 and x < 10) (NOT): False\n"
     ]
    }
   ],
   "source": [
    "# Logical Operators in Python (Simple A to C format)\n",
    "\n",
    "x = 7\n",
    "\n",
    "A = (x > 5 and x < 10)          # A: AND - both conditions must be true\n",
    "B = (x < 5 or x < 10)           # B: OR - at least one condition must be true\n",
    "C = not (x > 5 and x < 10)      # C: NOT - reverses the result\n",
    "\n",
    "# Print results\n",
    "print(\"A. x > 5 and x < 10  (AND) :\", A)\n",
    "print(\"B. x < 5 or x < 10   (OR)  :\", B)\n",
    "print(\"C. not(x > 5 and x < 10) (NOT):\", C)\n"
   ]
  },
  {
   "cell_type": "raw",
   "id": "68fa7328-1a57-48d2-8074-0a546b4f523b",
   "metadata": {},
   "source": [
    "Identity Operators:"
   ]
  },
  {
   "cell_type": "code",
   "execution_count": 35,
   "id": "8917be6d-f1b5-4354-ad85-5c9f6ed86c67",
   "metadata": {},
   "outputs": [
    {
     "name": "stdout",
     "output_type": "stream",
     "text": [
      "A. x is y       (Same Object)        : True\n",
      "B. x is not z   (Not Same Object)    : True\n"
     ]
    }
   ],
   "source": [
    "# Identity Operators in Python (Simple A to B format)\n",
    "\n",
    "x = [1, 2, 3]\n",
    "y = x                   # y refers to the same object as x\n",
    "z = [1, 2, 3]           # z is a different object with same content\n",
    "\n",
    "A = (x is y)            # True - same memory reference\n",
    "B = (x is not z)        # True - different memory reference\n",
    "\n",
    "print(\"A. x is y       (Same Object)        :\", A)\n",
    "print(\"B. x is not z   (Not Same Object)    :\", B)\n"
   ]
  },
  {
   "cell_type": "raw",
   "id": "893a6258-ed90-4846-8fdf-1e0a692a6251",
   "metadata": {},
   "source": [
    "Membership Operators:"
   ]
  },
  {
   "cell_type": "code",
   "execution_count": 41,
   "id": "5e715cfc-eb78-4d6b-bd3e-56469d07477d",
   "metadata": {},
   "outputs": [
    {
     "name": "stdout",
     "output_type": "stream",
     "text": [
      "A. 3 in nums       (Present?)     : True\n",
      "B. 10 not in nums  (Not Present?) : True\n"
     ]
    }
   ],
   "source": [
    "# Membership Operators in Python (Simple C to D format)\n",
    "\n",
    "nums = [1, 2, 3, 4, 5]\n",
    "\n",
    "A = (3 in nums)           # True - 3 is in the list\n",
    "B = (10 not in nums)      # True - 10 is not in the list\n",
    "\n",
    "print(\"A. 3 in nums       (Present?)     :\", A)\n",
    "print(\"B. 10 not in nums  (Not Present?) :\", B)\n"
   ]
  },
  {
   "cell_type": "raw",
   "id": "eff2d7de-9586-401c-a289-087cfa9643bd",
   "metadata": {},
   "source": [
    "Bitwise Operators:"
   ]
  },
  {
   "cell_type": "code",
   "execution_count": 43,
   "id": "bb93409d-f18c-4370-b5e4-1ef6350ba04f",
   "metadata": {},
   "outputs": [
    {
     "name": "stdout",
     "output_type": "stream",
     "text": [
      "A. x & y   (AND)        : 1\n",
      "B. x | y   (OR)         : 7\n",
      "C. x ^ y   (XOR)        : 6\n",
      "D. ~x      (NOT)        : -6\n",
      "E. x << 2  (Left Shift) : 20\n",
      "F. x >> 2  (Right Shift): 1\n"
     ]
    }
   ],
   "source": [
    "# Bitwise Operators in Python\n",
    "\n",
    "x = 5          # binary: 0101\n",
    "y = 3          # binary: 0011\n",
    "\n",
    "A = x & y     # AND: 0101 & 0011 = 0001 (1)\n",
    "B = x | y     # OR : 0101 | 0011 = 0111 (7)\n",
    "C = x ^ y     # XOR: 0101 ^ 0011 = 0110 (6)\n",
    "D = ~x        # NOT: ~0101 = -6 (2's complement)\n",
    "E = x << 2    # Left shift: 0101 -> 010100 (20)\n",
    "F = x >> 2    # Right shift: 0101 -> 0001 (1)\n",
    "\n",
    "print(\"A. x & y   (AND)        :\", A)\n",
    "print(\"B. x | y   (OR)         :\", B)\n",
    "print(\"C. x ^ y   (XOR)        :\", C)\n",
    "print(\"D. ~x      (NOT)        :\", D)\n",
    "print(\"E. x << 2  (Left Shift) :\", E)\n",
    "print(\"F. x >> 2  (Right Shift):\", F)\n"
   ]
  },
  {
   "cell_type": "raw",
   "id": "188bc478-be89-4003-bd99-322f8e7ca957",
   "metadata": {},
   "source": [
    "Operator Precedence"
   ]
  },
  {
   "cell_type": "code",
   "execution_count": 45,
   "id": "f59a6af6-b079-49da-b816-a982832a0404",
   "metadata": {},
   "outputs": [
    {
     "name": "stdout",
     "output_type": "stream",
     "text": [
      "0\n"
     ]
    }
   ],
   "source": [
    "# Parentheses has the highest precedence, meaning that expressions inside parentheses must be evaluated first:\n",
    "\n",
    "print((6 + 3) - (6 + 3))"
   ]
  },
  {
   "cell_type": "code",
   "execution_count": 47,
   "id": "ee318c42-9ebd-4323-a63c-93aa819998b8",
   "metadata": {},
   "outputs": [
    {
     "name": "stdout",
     "output_type": "stream",
     "text": [
      "115\n"
     ]
    }
   ],
   "source": [
    "print(100 + 5 * 3)"
   ]
  },
  {
   "cell_type": "code",
   "execution_count": 49,
   "id": "6ba12b1a-779c-44aa-831d-976c927f34bf",
   "metadata": {},
   "outputs": [
    {
     "name": "stdout",
     "output_type": "stream",
     "text": [
      "A. ()       (Parentheses)        : 21\n",
      "B. **       (Exponentiation)     : 25\n",
      "C. -x       (Unary Minus)        : -5\n",
      "D. *        (Multiplication)     : 10\n",
      "E. /        (Division)           : 2.5\n",
      "F. //       (Floor Division)     : 2\n",
      "G. %        (Modulus)            : 1\n",
      "H. +        (Addition)           : 7\n",
      "I. -        (Subtraction)        : 3\n",
      "J. <<       (Left Shift)         : 10\n",
      "K. >>       (Right Shift)        : 2\n",
      "L. &        (Bitwise AND)        : 0\n",
      "M. ^        (Bitwise XOR)        : 7\n",
      "N. |        (Bitwise OR)         : 7\n",
      "O. ==       (Equal)              : False\n",
      "P. !=       (Not Equal)          : True\n",
      "Q. not      (Logical NOT)        : False\n",
      "R. and      (Logical AND)        : True\n",
      "S. or       (Logical OR)         : True\n"
     ]
    }
   ],
   "source": [
    "# Python Operator Precedence (Simple A to L Format)\n",
    "\n",
    "x = 5\n",
    "y = 2\n",
    "z = 3\n",
    "\n",
    "# A. Parentheses ()\n",
    "A = (x + y) * z  # Grouped first => (5 + 2) * 3 = 21\n",
    "\n",
    "# B. Exponentiation **\n",
    "B = x ** y       # 5 ** 2 = 25\n",
    "\n",
    "# C. Unary +, -, ~\n",
    "C = -x           # Unary minus => -5\n",
    "\n",
    "# D. *, /, //, %\n",
    "D = x * y        # 5 * 2 = 10\n",
    "E = x / y        # 5 / 2 = 2.5\n",
    "F = x // y       # 5 // 2 = 2\n",
    "G = x % y        # 5 % 2 = 1\n",
    "\n",
    "# E. +, -\n",
    "H = x + y        # 5 + 2 = 7\n",
    "I = x - y        # 5 - 2 = 3\n",
    "\n",
    "# F. <<, >>\n",
    "J = x << 1       # 5 << 1 = 10 (binary shift left)\n",
    "K = x >> 1       # 5 >> 1 = 2 (binary shift right)\n",
    "\n",
    "# G. Bitwise AND &\n",
    "L = x & y        # 5 & 2 = 0\n",
    "\n",
    "# H. Bitwise XOR ^\n",
    "M = x ^ y        # 5 ^ 2 = 7\n",
    "\n",
    "# I. Bitwise OR |\n",
    "N = x | y        # 5 | 2 = 7\n",
    "\n",
    "# J. Comparisons: ==, !=, >, >=, <, <=, is, is not, in, not in\n",
    "O = (x == y)     # False\n",
    "P = (x != y)     # True\n",
    "\n",
    "# K. Logical NOT\n",
    "Q = not(x > y)   # False\n",
    "\n",
    "# L. Logical AND, OR\n",
    "R = (x > 1 and y > 1)   # True\n",
    "S = (x > 1 or y > 10)   # True\n",
    "\n",
    "# Print results\n",
    "print(\"A. ()       (Parentheses)        :\", A)\n",
    "print(\"B. **       (Exponentiation)     :\", B)\n",
    "print(\"C. -x       (Unary Minus)        :\", C)\n",
    "print(\"D. *        (Multiplication)     :\", D)\n",
    "print(\"E. /        (Division)           :\", E)\n",
    "print(\"F. //       (Floor Division)     :\", F)\n",
    "print(\"G. %        (Modulus)            :\", G)\n",
    "print(\"H. +        (Addition)           :\", H)\n",
    "print(\"I. -        (Subtraction)        :\", I)\n",
    "print(\"J. <<       (Left Shift)         :\", J)\n",
    "print(\"K. >>       (Right Shift)        :\", K)\n",
    "print(\"L. &        (Bitwise AND)        :\", L)\n",
    "print(\"M. ^        (Bitwise XOR)        :\", M)\n",
    "print(\"N. |        (Bitwise OR)         :\", N)\n",
    "print(\"O. ==       (Equal)              :\", O)\n",
    "print(\"P. !=       (Not Equal)          :\", P)\n",
    "print(\"Q. not      (Logical NOT)        :\", Q)\n",
    "print(\"R. and      (Logical AND)        :\", R)\n",
    "print(\"S. or       (Logical OR)         :\", S)\n"
   ]
  },
  {
   "cell_type": "code",
   "execution_count": 51,
   "id": "ceee7088-b7f5-4d43-b65a-922b05500aec",
   "metadata": {},
   "outputs": [
    {
     "name": "stdout",
     "output_type": "stream",
     "text": [
      "5\n"
     ]
    }
   ],
   "source": [
    "# Example\n",
    "\n",
    "# Addition + and subtraction - has the same precedence, and therefore we evaluate the expression from left to right:\n",
    "\n",
    "print(5 + 4 - 7 + 3)"
   ]
  },
  {
   "cell_type": "code",
   "execution_count": null,
   "id": "3c9f7fc2-dcaa-4ea2-9675-4fc0836c97ab",
   "metadata": {},
   "outputs": [],
   "source": []
  }
 ],
 "metadata": {
  "kernelspec": {
   "display_name": "Python (project_DS)",
   "language": "python",
   "name": "project_ds"
  },
  "language_info": {
   "codemirror_mode": {
    "name": "ipython",
    "version": 3
   },
   "file_extension": ".py",
   "mimetype": "text/x-python",
   "name": "python",
   "nbconvert_exporter": "python",
   "pygments_lexer": "ipython3",
   "version": "3.10.18"
  }
 },
 "nbformat": 4,
 "nbformat_minor": 5
}
